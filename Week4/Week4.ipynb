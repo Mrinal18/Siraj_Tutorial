{
  "nbformat": 4,
  "nbformat_minor": 0,
  "metadata": {
    "colab": {
      "name": "Week4.ipynb",
      "provenance": [],
      "private_outputs": true,
      "include_colab_link": true
    },
    "kernelspec": {
      "name": "python3",
      "display_name": "Python 3"
    },
    "accelerator": "GPU"
  },
  "cells": [
    {
      "cell_type": "markdown",
      "metadata": {
        "id": "view-in-github",
        "colab_type": "text"
      },
      "source": [
        "<a href=\"https://colab.research.google.com/github/Mrinal18/Siraj_Tutorial/blob/master/Week4/Week4.ipynb\" target=\"_parent\"><img src=\"https://colab.research.google.com/assets/colab-badge.svg\" alt=\"Open In Colab\"/></a>"
      ]
    },
    {
      "cell_type": "code",
      "metadata": {
        "id": "tMm3pjYJcW8g",
        "colab_type": "code",
        "colab": {}
      },
      "source": [
        "import os\n",
        "os.environ['KAGGLE_USERNAME'] = 'xxx'\n",
        "os.environ['KAGGLE_KEY'] = 'xxx'"
      ],
      "execution_count": 0,
      "outputs": []
    },
    {
      "cell_type": "code",
      "metadata": {
        "id": "I1I2R6qKdCAe",
        "colab_type": "code",
        "colab": {}
      },
      "source": [
        "!kaggle datasets download -d paultimothymooney/chest-xray-pneumonia"
      ],
      "execution_count": 0,
      "outputs": []
    },
    {
      "cell_type": "code",
      "metadata": {
        "id": "4wiEXQnPdMK3",
        "colab_type": "code",
        "colab": {}
      },
      "source": [
        "!unzip chest-xray-pneumonia.zip\n",
        "!unzip chest_xray.zip"
      ],
      "execution_count": 0,
      "outputs": []
    },
    {
      "cell_type": "markdown",
      "metadata": {
        "id": "MZrLSoSgdo2Y",
        "colab_type": "text"
      },
      "source": [
        "## Checking out the data/images"
      ]
    },
    {
      "cell_type": "code",
      "metadata": {
        "id": "4lIvldZRdl8k",
        "colab_type": "code",
        "colab": {}
      },
      "source": [
        "import matplotlib.pyplot as plt\n",
        "import matplotlib.image as mpimg"
      ],
      "execution_count": 0,
      "outputs": []
    },
    {
      "cell_type": "code",
      "metadata": {
        "id": "z6f3mYNrdsHY",
        "colab_type": "code",
        "colab": {}
      },
      "source": [
        "training_dir = './chest_xray/train'\n",
        "validation_dir = './chest_xray/test'\n",
        "test_dir = './chest_xray/val'"
      ],
      "execution_count": 0,
      "outputs": []
    },
    {
      "cell_type": "code",
      "metadata": {
        "id": "hDIPphCfdt16",
        "colab_type": "code",
        "colab": {}
      },
      "source": [
        "img = mpimg.imread(training_dir + '/NORMAL/IM-0115-0001.jpeg')\n",
        "imgplot = plt.imshow(img)\n",
        "plt.show()"
      ],
      "execution_count": 0,
      "outputs": []
    },
    {
      "cell_type": "code",
      "metadata": {
        "id": "HraVzBmkdwKI",
        "colab_type": "code",
        "colab": {}
      },
      "source": [
        "def plot_images(path, labeled=False, max_images=6):\n",
        "  amount = 0\n",
        "  fig = plt.figure(figsize=(12, 6))\n",
        "\n",
        "  for file in os.listdir(path):\n",
        "    if file.endswith('.jpeg'):\n",
        "      if amount == max_images:\n",
        "        break\n",
        "\n",
        "      img = mpimg.imread(os.path.join(path, file))\n",
        "      plt.subplot(231+amount)\n",
        "      if labeled:\n",
        "        plt.title(file.split('_')[1])\n",
        "      imgplot = plt.imshow(img)\n",
        "\n",
        "      amount += 1"
      ],
      "execution_count": 0,
      "outputs": []
    },
    {
      "cell_type": "code",
      "metadata": {
        "id": "0mvCSjSQdy8U",
        "colab_type": "code",
        "colab": {}
      },
      "source": [
        "plot_images(training_dir + '/NORMAL')"
      ],
      "execution_count": 0,
      "outputs": []
    },
    {
      "cell_type": "code",
      "metadata": {
        "id": "hU3hcEa2d08J",
        "colab_type": "code",
        "colab": {}
      },
      "source": [
        "plot_images(training_dir + '/PNEUMONIA', labeled=True)"
      ],
      "execution_count": 0,
      "outputs": []
    },
    {
      "cell_type": "markdown",
      "metadata": {
        "id": "efqkrsWDd6Pp",
        "colab_type": "text"
      },
      "source": [
        "## Train the model"
      ]
    },
    {
      "cell_type": "code",
      "metadata": {
        "id": "YFUGQ5Ggd2vT",
        "colab_type": "code",
        "colab": {}
      },
      "source": [
        "import keras\n",
        "from keras.applications.inception_v3 import InceptionV3\n",
        "from keras.preprocessing.image import ImageDataGenerator"
      ],
      "execution_count": 0,
      "outputs": []
    },
    {
      "cell_type": "code",
      "metadata": {
        "id": "-rufFYYvd8vA",
        "colab_type": "code",
        "colab": {}
      },
      "source": [
        "rescale = 1./255.0\n",
        "target_size = (150, 150)\n",
        "batch_size = 32\n",
        "class_mode = 'categorical'\n",
        "\n",
        "train_datagen = ImageDataGenerator(\n",
        "    width_shift_range=0.1,\n",
        "    height_shift_range=0.1,\n",
        "    shear_range=0.2,\n",
        "    zoom_range=0.2,\n",
        "    horizontal_flip=True,\n",
        "    rescale=rescale\n",
        ")\n",
        "train_generator = train_datagen.flow_from_directory(\n",
        "    training_dir,\n",
        "    target_size=target_size,\n",
        "    class_mode=class_mode,\n",
        "    batch_size=batch_size\n",
        ")\n",
        "\n",
        "validation_datagen = ImageDataGenerator(rescale=rescale)\n",
        "validation_generator = validation_datagen.flow_from_directory(\n",
        "    validation_dir,\n",
        "    target_size=target_size,\n",
        "    class_mode=class_mode,\n",
        "    batch_size=batch_size\n",
        ")\n",
        "\n",
        "test_datagen = ImageDataGenerator(rescale=rescale)\n",
        "test_generator = test_datagen.flow_from_directory(\n",
        "    test_dir,\n",
        "    target_size=target_size,\n",
        "    class_mode=class_mode,\n",
        "    batch_size=1\n",
        ")"
      ],
      "execution_count": 0,
      "outputs": []
    },
    {
      "cell_type": "code",
      "metadata": {
        "id": "Adr9E8JYd-Vk",
        "colab_type": "code",
        "colab": {}
      },
      "source": [
        "def get_model():\n",
        "  base_model = InceptionV3(weights='imagenet', include_top=False)\n",
        "  x = base_model.output\n",
        "  x = keras.layers.GlobalAveragePooling2D()(x)\n",
        "  x = keras.layers.Dense(1024, activation='relu')(x)\n",
        "  x = keras.layers.BatchNormalization()(x)\n",
        "  predictions = keras.layers.Dense(2, activation='softmax')(x)\n",
        "  model = keras.models.Model(inputs=base_model.inputs, outputs=predictions)\n",
        "\n",
        "  for layer in base_model.layers:\n",
        "    layer.trainable = False\n",
        "  \n",
        "  model.summary()\n",
        "  return model"
      ],
      "execution_count": 0,
      "outputs": []
    },
    {
      "cell_type": "code",
      "metadata": {
        "id": "zpQeqGZqeAB1",
        "colab_type": "code",
        "colab": {}
      },
      "source": [
        "model = get_model()"
      ],
      "execution_count": 0,
      "outputs": []
    },
    {
      "cell_type": "code",
      "metadata": {
        "id": "imyIA0wBeBbu",
        "colab_type": "code",
        "colab": {}
      },
      "source": [
        "model.compile(keras.optimizers.Adam(0.001), loss='categorical_crossentropy', metrics=['accuracy'])\n",
        "history = model.fit_generator(\n",
        "    train_generator,\n",
        "    steps_per_epoch=len(train_generator),\n",
        "    epochs=5,\n",
        "    verbose=1,\n",
        "    validation_data=validation_generator,\n",
        "    validation_steps=len(validation_generator)\n",
        ")"
      ],
      "execution_count": 0,
      "outputs": []
    },
    {
      "cell_type": "code",
      "metadata": {
        "id": "wW3MlJLgeE5W",
        "colab_type": "code",
        "colab": {}
      },
      "source": [
        "result  = model.evaluate_generator(test_generator, steps=len(test_generator), verbose=1)\n",
        "print('Loss:', result[0])\n",
        "print('Accuracy:', result[1])"
      ],
      "execution_count": 0,
      "outputs": []
    },
    {
      "cell_type": "code",
      "metadata": {
        "id": "xaoV9pK9eJik",
        "colab_type": "code",
        "colab": {}
      },
      "source": [
        "y_pred_batches = []\n",
        "y_true_batches = []\n",
        "y_img_batches = []\n",
        "for i in range(0, len(test_generator)):\n",
        "  y_img_batch, y_true_batch = test_generator[i]\n",
        "  y_true_batch = y_true_batch.argmax(axis=-1)\n",
        "  y_img_batches.append(y_img_batch)\n",
        "  y_true_batches.append(y_true_batch)\n",
        "\n",
        "  y_pred_batch = model.predict(y_img_batch)\n",
        "  y_pred_batch = y_pred_batch.argmax(axis=-1)\n",
        "  y_pred_batches.append(y_pred_batch)\n",
        "\n",
        "y_pred_batches"
      ],
      "execution_count": 0,
      "outputs": []
    },
    {
      "cell_type": "code",
      "metadata": {
        "id": "edNR490zeLEG",
        "colab_type": "code",
        "colab": {}
      },
      "source": [
        "def predict_images(images_path, label):\n",
        "  amount = 0\n",
        "  fig = plt.figure(figsize=(18, 8))\n",
        "\n",
        "  for file in os.listdir(images_path):\n",
        "    if file.endswith('.jpeg'):\n",
        "      if amount == 8:\n",
        "        break\n",
        "\n",
        "      img = mpimg.imread(os.path.join(images_path, file))\n",
        "      plt.subplot(241+amount)\n",
        "      plt.title('{} ---- {}'.format(label, 'NORMAL' if y_pred_batches[amount] == 0 else 'PNEUMONIA'))\n",
        "      imgplot = plt.imshow(img)\n",
        "\n",
        "      amount += 1"
      ],
      "execution_count": 0,
      "outputs": []
    },
    {
      "cell_type": "code",
      "metadata": {
        "id": "QF0kJDpfeMi3",
        "colab_type": "code",
        "colab": {}
      },
      "source": [
        "predict_images('./chest_xray/val/NORMAL', 'NORMAL')"
      ],
      "execution_count": 0,
      "outputs": []
    },
    {
      "cell_type": "code",
      "metadata": {
        "id": "bLO38EEuePG-",
        "colab_type": "code",
        "colab": {}
      },
      "source": [
        "predict_images('./chest_xray/val/PNEUMONIA', 'PNEUMONIA')"
      ],
      "execution_count": 0,
      "outputs": []
    },
    {
      "cell_type": "markdown",
      "metadata": {
        "id": "04kp-4t-eVOn",
        "colab_type": "text"
      },
      "source": [
        "## Model saving and loading"
      ]
    },
    {
      "cell_type": "code",
      "metadata": {
        "id": "QaXMjKDPeQ3R",
        "colab_type": "code",
        "colab": {}
      },
      "source": [
        "model.save('result_model.h5')"
      ],
      "execution_count": 0,
      "outputs": []
    },
    {
      "cell_type": "code",
      "metadata": {
        "id": "qPQQ6u7jeXJg",
        "colab_type": "code",
        "colab": {}
      },
      "source": [
        "new_model = keras.models.load_model('result_model.h5')"
      ],
      "execution_count": 0,
      "outputs": []
    },
    {
      "cell_type": "code",
      "metadata": {
        "id": "tMivC-txecfb",
        "colab_type": "code",
        "colab": {}
      },
      "source": [
        ""
      ],
      "execution_count": 0,
      "outputs": []
    }
  ]
}