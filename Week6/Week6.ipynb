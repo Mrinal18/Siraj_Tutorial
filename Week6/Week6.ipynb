{
  "nbformat": 4,
  "nbformat_minor": 0,
  "metadata": {
    "colab": {
      "name": "Week6.ipynb",
      "provenance": [],
      "private_outputs": true,
      "include_colab_link": true
    },
    "kernelspec": {
      "name": "python3",
      "display_name": "Python 3"
    },
    "accelerator": "GPU"
  },
  "cells": [
    {
      "cell_type": "markdown",
      "metadata": {
        "id": "view-in-github",
        "colab_type": "text"
      },
      "source": [
        "<a href=\"https://colab.research.google.com/github/Mrinal18/Siraj_Tutorial/blob/master/Week6/Week6.ipynb\" target=\"_parent\"><img src=\"https://colab.research.google.com/assets/colab-badge.svg\" alt=\"Open In Colab\"/></a>"
      ]
    },
    {
      "cell_type": "code",
      "metadata": {
        "id": "O9tF_U9jHIQm",
        "colab_type": "code",
        "colab": {}
      },
      "source": [
        "import keras\n",
        "import pandas as pd\n",
        "import numpy as np\n",
        "import matplotlib.pyplot as plt\n",
        "from scipy.interpolate import interp1d"
      ],
      "execution_count": 0,
      "outputs": []
    },
    {
      "cell_type": "markdown",
      "metadata": {
        "id": "C7OGYABbHwUu",
        "colab_type": "text"
      },
      "source": [
        "Data loading\n",
        "\n",
        "Load the Fashion-MNIST Dataset"
      ]
    },
    {
      "cell_type": "code",
      "metadata": {
        "id": "g9EcJS6lHtxU",
        "colab_type": "code",
        "colab": {}
      },
      "source": [
        "#label dictionary\n",
        "label_dict = {0: 'tshirt',\n",
        "              1: 'trouser',\n",
        "              2: 'pullover',\n",
        "              3: 'dress',\n",
        "              4: 'coat',\n",
        "              5: 'sandal',\n",
        "              6: 'shirt',\n",
        "              7: 'sneaker',\n",
        "              8: 'bag',\n",
        "              9: 'boot'}"
      ],
      "execution_count": 0,
      "outputs": []
    },
    {
      "cell_type": "code",
      "metadata": {
        "id": "Qr04jMGoSEpC",
        "colab_type": "code",
        "colab": {}
      },
      "source": [
        "#input dimensions\n",
        "input_rows = 28\n",
        "input_cols = 28\n",
        "input_channels = 1\n"
      ],
      "execution_count": 0,
      "outputs": []
    },
    {
      "cell_type": "code",
      "metadata": {
        "id": "dOQQ2phFQP52",
        "colab_type": "code",
        "colab": {}
      },
      "source": [
        "def load_fashion_mnist(input_rows, input_cols, path='fashion-mnist_train.csv'):\n",
        "    #read the csv data\n",
        "    df = pd.read_csv(path)\n",
        "    #extract the image pixels\n",
        "    X_train = df.drop(columns = ['label'])\n",
        "    X_train = X_train.as_matrix()\n",
        "    X_train = X_train.reshape(X_train.shape[0], input_rows, input_cols)\n",
        "    #extract the labels\n",
        "    y_train = df['label'].as_matrix()\n",
        "    \n",
        "    return X_train, y_train"
      ],
      "execution_count": 0,
      "outputs": []
    },
    {
      "cell_type": "code",
      "metadata": {
        "id": "JmJDI1bdH1Vx",
        "colab_type": "code",
        "colab": {}
      },
      "source": [
        "X_train, y_train = load_fashion_mnist(input_rows, input_cols)\n"
      ],
      "execution_count": 0,
      "outputs": []
    },
    {
      "cell_type": "code",
      "metadata": {
        "id": "TygtplauH-x-",
        "colab_type": "code",
        "colab": {}
      },
      "source": [
        "X_train.shape, y_train.shape, type(X_train), type(y_train)\n"
      ],
      "execution_count": 0,
      "outputs": []
    },
    {
      "cell_type": "code",
      "metadata": {
        "id": "e5HXSKKNSo2O",
        "colab_type": "code",
        "colab": {}
      },
      "source": [
        "from __future__ import print_function, division\n",
        "\n",
        "from keras.datasets import mnist\n",
        "from keras.layers import Input, Dense, Reshape, Flatten, Dropout, multiply\n",
        "from keras.layers import BatchNormalization, Activation, Embedding, ZeroPadding2D\n",
        "from keras.layers.advanced_activations import LeakyReLU\n",
        "from keras.layers.convolutional import UpSampling2D, Conv2D\n",
        "from keras.models import Sequential, Model\n",
        "from keras.optimizers import Adam\n",
        "\n",
        "import matplotlib.pyplot as plt\n",
        "\n",
        "import numpy as np\n",
        "\n",
        "class ACGAN():\n",
        "    def __init__(self, input_rows, input_cols, input_channels, input_classes, latent_dim=100):\n",
        "        # Input shape\n",
        "        self.img_rows = input_rows\n",
        "        self.img_cols = input_cols\n",
        "        self.channels = input_channels\n",
        "        self.img_shape = (self.img_rows, self.img_cols, self.channels)\n",
        "        self.num_classes = input_classes\n",
        "        self.latent_dim = latent_dim\n",
        "\n",
        "        optimizer = Adam(0.0002, 0.5)\n",
        "        losses = ['binary_crossentropy', 'sparse_categorical_crossentropy']\n",
        "\n",
        "        # Build and compile the discriminator\n",
        "        self.discriminator = self.build_discriminator()\n",
        "        self.discriminator.compile(loss=losses,\n",
        "            optimizer=optimizer,\n",
        "            metrics=['accuracy'])\n",
        "\n",
        "        # Build the generator\n",
        "        self.generator = self.build_generator()\n",
        "\n",
        "        # The generator takes noise and the target label as input\n",
        "        # and generates the corresponding digit of that label\n",
        "        noise = Input(shape=(self.latent_dim,))\n",
        "        label = Input(shape=(1,))\n",
        "        img = self.generator([noise, label])\n",
        "\n",
        "        # For the combined model we will only train the generator\n",
        "        self.discriminator.trainable = False\n",
        "\n",
        "        # The discriminator takes generated image as input and determines validity\n",
        "        # and the label of that image\n",
        "        valid, target_label = self.discriminator(img)\n",
        "\n",
        "        # The combined model  (stacked generator and discriminator)\n",
        "        # Trains the generator to fool the discriminator\n",
        "        self.combined = Model([noise, label], [valid, target_label])\n",
        "        self.combined.compile(loss=losses,\n",
        "            optimizer=optimizer)\n",
        "\n",
        "    def build_generator(self):\n",
        "\n",
        "        model = Sequential()\n",
        "\n",
        "        model.add(Dense(128 * 7 * 7, activation=\"relu\", input_dim=self.latent_dim))\n",
        "        model.add(Reshape((7, 7, 128)))\n",
        "        model.add(BatchNormalization(momentum=0.8))\n",
        "        model.add(UpSampling2D())\n",
        "        model.add(Conv2D(128, kernel_size=3, padding=\"same\"))\n",
        "        model.add(Activation(\"relu\"))\n",
        "        model.add(BatchNormalization(momentum=0.8))\n",
        "        model.add(UpSampling2D())\n",
        "        model.add(Conv2D(64, kernel_size=3, padding=\"same\"))\n",
        "        model.add(Activation(\"relu\"))\n",
        "        model.add(BatchNormalization(momentum=0.8))\n",
        "        model.add(Conv2D(self.channels, kernel_size=3, padding='same'))\n",
        "        model.add(Activation(\"tanh\"))\n",
        "\n",
        "        model.summary()\n",
        "\n",
        "        noise = Input(shape=(self.latent_dim,))\n",
        "        label = Input(shape=(1,), dtype='int32')\n",
        "        label_embedding = Flatten()(Embedding(self.num_classes, 100)(label))\n",
        "\n",
        "        model_input = multiply([noise, label_embedding])\n",
        "        img = model(model_input)\n",
        "\n",
        "        return Model([noise, label], img)\n",
        "\n",
        "    def build_discriminator(self):\n",
        "\n",
        "        model = Sequential()\n",
        "\n",
        "        model.add(Conv2D(16, kernel_size=3, strides=2, input_shape=self.img_shape, padding=\"same\"))\n",
        "        model.add(LeakyReLU(alpha=0.2))\n",
        "        model.add(Dropout(0.25))\n",
        "        model.add(Conv2D(32, kernel_size=3, strides=2, padding=\"same\"))\n",
        "        model.add(ZeroPadding2D(padding=((0,1),(0,1))))\n",
        "        model.add(LeakyReLU(alpha=0.2))\n",
        "        model.add(Dropout(0.25))\n",
        "        model.add(BatchNormalization(momentum=0.8))\n",
        "        model.add(Conv2D(64, kernel_size=3, strides=2, padding=\"same\"))\n",
        "        model.add(LeakyReLU(alpha=0.2))\n",
        "        model.add(Dropout(0.25))\n",
        "        model.add(BatchNormalization(momentum=0.8))\n",
        "        model.add(Conv2D(128, kernel_size=3, strides=1, padding=\"same\"))\n",
        "        model.add(LeakyReLU(alpha=0.2))\n",
        "        model.add(Dropout(0.25))\n",
        "\n",
        "        model.add(Flatten())\n",
        "        model.summary()\n",
        "\n",
        "        img = Input(shape=self.img_shape)\n",
        "\n",
        "        # Extract feature representation\n",
        "        features = model(img)\n",
        "\n",
        "        # Determine validity and label of the image\n",
        "        validity = Dense(1, activation=\"sigmoid\")(features)\n",
        "        label = Dense(self.num_classes+1, activation=\"softmax\")(features)\n",
        "\n",
        "        return Model(img, [validity, label])\n",
        "\n",
        "    def train(self, X_train, y_train, epochs, batch_size=128, sample_interval=50):\n",
        "\n",
        "        # Load the dataset\n",
        "        #(X_train, y_train), (_, _) = mnist.load_data()\n",
        "        #X_train, y_train = self.X_train, self.y_train\n",
        "\n",
        "        # Configure inputs\n",
        "        X_train = (X_train.astype(np.float32) - 127.5) / 127.5\n",
        "        X_train = np.expand_dims(X_train, axis=3)\n",
        "        y_train = y_train.reshape(-1, 1)\n",
        "\n",
        "        # Adversarial ground truths\n",
        "        valid = np.ones((batch_size, 1))\n",
        "        fake = np.zeros((batch_size, 1))\n",
        "\n",
        "        # Loss output\n",
        "        g_loss_epochs = np.zeros((epochs, 1))\n",
        "        d_loss_epochs = np.zeros((epochs, 1))\n",
        "\n",
        "        for epoch in range(epochs):\n",
        "\n",
        "            # ---------------------\n",
        "            #  Train Discriminator\n",
        "            # ---------------------\n",
        "\n",
        "            # Select a random batch of images\n",
        "            idx = np.random.randint(0, X_train.shape[0], batch_size)\n",
        "            imgs = X_train[idx]\n",
        "\n",
        "            # Sample noise as generator input\n",
        "            noise = np.random.normal(0, 1, (batch_size, 100))\n",
        "\n",
        "            # The labels of the digits that the generator tries to create an\n",
        "            # image representation of\n",
        "            sampled_labels = np.random.randint(0, 10, (batch_size, 1))\n",
        "\n",
        "            # Generate a half batch of new images\n",
        "            gen_imgs = self.generator.predict([noise, sampled_labels])\n",
        "\n",
        "            # Image labels. 0-9 if image is valid or 10 if it is generated (fake)\n",
        "            img_labels = y_train[idx]\n",
        "            fake_labels = 10 * np.ones(img_labels.shape)\n",
        "\n",
        "            # Train the discriminator\n",
        "            d_loss_real = self.discriminator.train_on_batch(imgs, [valid, img_labels])\n",
        "            d_loss_fake = self.discriminator.train_on_batch(gen_imgs, [fake, fake_labels])\n",
        "            d_loss = 0.5 * np.add(d_loss_real, d_loss_fake)\n",
        "\n",
        "            # ---------------------\n",
        "            #  Train Generator\n",
        "            # ---------------------\n",
        "\n",
        "            # Train the generator\n",
        "            g_loss = self.combined.train_on_batch([noise, sampled_labels], [valid, sampled_labels])\n",
        "\n",
        "            #show the final losses\n",
        "            g_loss_epochs[epoch] = g_loss[0]\n",
        "            d_loss_epochs[epoch] = d_loss[0]\n",
        "\n",
        "            # If at save interval => save generated image samples\n",
        "            if epoch % sample_interval == 0:\n",
        "                # Plot the progress\n",
        "                print (\"Epoch: %d [D loss: %f, acc.: %.2f%%, op_acc: %.2f%%] [G loss: %f]\" % (epoch, d_loss[0], 100*d_loss[3], 100*d_loss[4], g_loss[0]))\n",
        "                #do not save model\n",
        "                #self.save_model()\n",
        "                self.sample_images(epoch, smp_rows=2, smp_cols=10, save_img=False)\n",
        "\n",
        "        return g_loss_epochs, d_loss_epochs\n",
        " \n",
        "\n",
        "    #row, cols to be sampled\n",
        "    def sample_images(self, epoch, smp_rows=5, smp_cols=10, save_img=True, fig_size=(8, 3)):\n",
        "        r, c = smp_rows, smp_cols\n",
        "        noise = np.random.normal(0, 1, (r * c, 100))\n",
        "        sampled_labels = np.array([num for _ in range(r) for num in range(c)])\n",
        "        gen_imgs = self.generator.predict([noise, sampled_labels])\n",
        "        # Rescale images 0 - 1\n",
        "        gen_imgs = 0.5 * gen_imgs + 0.5\n",
        "\n",
        "        #plt.figure(figsize=fig_size)\n",
        "        fig, axs = plt.subplots(r, c, figsize=fig_size)\n",
        "        cnt = 0\n",
        "        for i in range(r):\n",
        "            for j in range(c):\n",
        "                axs[i,j].imshow(gen_imgs[cnt,:,:,0], cmap='gray')\n",
        "                axs[i,j].axis('off')\n",
        "                cnt += 1\n",
        "        if save_img:\n",
        "            fig.savefig(\"../images/%d.png\" % epoch)\n",
        "        else:\n",
        "            #plt.figure(figsize=fig_size)\n",
        "            plt.show()\n",
        "        plt.close()\n",
        "\n",
        "    def sample_single_image(self, noise, label):\n",
        "        gen_imgs = self.generator.predict([noise, np.array(label).reshape((1, ))])\n",
        "        # Rescale images 0 - 1\n",
        "        gen_imgs = 0.5 * gen_imgs + 0.5\n",
        "        plt.imshow(gen_imgs[0, :, :, 0], cmap='gray')\n",
        "\n",
        "    def save_model(self):\n",
        "\n",
        "        def save(model, model_name):\n",
        "            model_path = \"../saved_model/%s.json\" % model_name\n",
        "            weights_path = \"../saved_model/%s_weights.hdf5\" % model_name\n",
        "            options = {\"file_arch\": model_path,\n",
        "                        \"file_weight\": weights_path}\n",
        "            json_string = model.to_json()\n",
        "            #\n",
        "            open(options['file_arch'], 'w').write(json_string)\n",
        "            model.save_weights(options['file_weight'])\n",
        "\n",
        "        save(self.generator, \"generator\")\n",
        "        save(self.discriminator, \"discriminator\")"
      ],
      "execution_count": 0,
      "outputs": []
    },
    {
      "cell_type": "code",
      "metadata": {
        "id": "QNCeNf38SQd7",
        "colab_type": "code",
        "colab": {}
      },
      "source": [
        "input_classes = pd.Series(y_train).nunique()\n",
        "fashion_acgan = ACGAN(input_rows, input_cols, input_channels, input_classes)\n"
      ],
      "execution_count": 0,
      "outputs": []
    },
    {
      "cell_type": "code",
      "metadata": {
        "id": "fhryztNwIBId",
        "colab_type": "code",
        "colab": {}
      },
      "source": [
        "#Train the AC-GAN with the fashion-mnist data\n",
        "g_loss, d_loss = fashion_acgan.train(X_train, y_train, epochs=2000, batch_size=100, sample_interval=200)"
      ],
      "execution_count": 0,
      "outputs": []
    },
    {
      "cell_type": "code",
      "metadata": {
        "id": "D7srMSsLIMLt",
        "colab_type": "code",
        "colab": {}
      },
      "source": [
        "#Show the Generator-Descriminator loss for every epoch\n",
        "def plot_gan_losses(g_loss, d_loss):\n",
        "    plt.plot(g_loss)\n",
        "    plt.plot(d_loss)\n",
        "    plt.title('GAN Loss evolution')\n",
        "    plt.ylabel('')\n",
        "    plt.xlabel('epoch')\n",
        "    plt.legend(['Generator', 'Discriminator'], loc='upper left')\n",
        "    plt.show()"
      ],
      "execution_count": 0,
      "outputs": []
    },
    {
      "cell_type": "code",
      "metadata": {
        "id": "WulxzpxkIMDE",
        "colab_type": "code",
        "colab": {}
      },
      "source": [
        "plot_gan_losses(g_loss, d_loss)\n"
      ],
      "execution_count": 0,
      "outputs": []
    },
    {
      "cell_type": "code",
      "metadata": {
        "id": "72ezM96tISNt",
        "colab_type": "code",
        "colab": {}
      },
      "source": [
        "fashion_acgan.sample_images(0, smp_rows=5, smp_cols=10, save_img=False, fig_size=(10, 10))\n"
      ],
      "execution_count": 0,
      "outputs": []
    }
  ]
}